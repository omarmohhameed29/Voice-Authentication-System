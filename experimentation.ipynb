{
  "cells": [
    {
      "cell_type": "code",
      "execution_count": 1,
      "metadata": {
        "id": "w71Wp-rsrPhk"
      },
      "outputs": [],
      "source": [
        "import pandas as pd\n",
        "from sklearn.model_selection import train_test_split\n",
        "from sklearn.preprocessing import StandardScaler\n",
        "from sklearn.svm import SVC\n",
        "from sklearn.metrics import accuracy_score, classification_report, confusion_matrix\n",
        "import numpy as np\n",
        "import pickle"
      ]
    },
    {
      "cell_type": "markdown",
      "metadata": {
        "id": "Ip6gmYmT50I2"
      },
      "source": [
        "# Person Detection"
      ]
    },
    {
      "cell_type": "code",
      "execution_count": 2,
      "metadata": {
        "colab": {
          "base_uri": "https://localhost:8080/"
        },
        "id": "RWicjbKrqIa_",
        "outputId": "782aeaea-90f4-4b63-fd90-cab5a21a222b"
      },
      "outputs": [
        {
          "name": "stdout",
          "output_type": "stream",
          "text": [
            "0.9543080939947781\n",
            "              precision    recall  f1-score   support\n",
            "\n",
            "           0       0.98      0.98      0.98       537\n",
            "           1       0.96      0.89      0.92      1037\n",
            "           2       0.93      0.94      0.94       651\n",
            "           3       0.90      0.95      0.92       959\n",
            "           4       1.00      1.00      1.00       893\n",
            "           5       0.95      0.95      0.95       532\n",
            "           6       0.97      0.99      0.98      1137\n",
            "           7       0.95      0.93      0.94       382\n",
            "\n",
            "    accuracy                           0.95      6128\n",
            "   macro avg       0.95      0.95      0.95      6128\n",
            "weighted avg       0.95      0.95      0.95      6128\n",
            "\n",
            "[[ 528    0    2    2    0    2    0    3]\n",
            " [   0  920    3   80    2    6   25    1]\n",
            " [   4    5  612   19    0    6    2    3]\n",
            " [   4   20   17  908    1    2    3    4]\n",
            " [   0    0    1    0  892    0    0    0]\n",
            " [   1   13   10    1    0  503    0    4]\n",
            " [   2    0    0    2    0    2 1129    2]\n",
            " [   2    0   12    2    0    8    2  356]]\n"
          ]
        }
      ],
      "source": [
        "data = pd.read_csv('combined_train_speakers.csv')\n",
        "X = data.iloc[:, :-1]\n",
        "y = data.iloc[:, -1]\n",
        "\n",
        "X_train, X_test, y_train, y_test = train_test_split(X, y, test_size=0.2, random_state=42)\n",
        "\n",
        "scalar = StandardScaler()\n",
        "X_train_scaled = scalar.fit_transform(X_train)\n",
        "X_test_scaled = scalar.transform(X_test)\n",
        "\n",
        "#svm\n",
        "\n",
        "svm = SVC(kernel='rbf', C=1)\n",
        "svm.fit(X_train_scaled, y_train)\n",
        "\n",
        "y_pred = svm.predict(X_test_scaled)\n",
        "print(accuracy_score(y_test, y_pred))\n",
        "print(classification_report(y_test, y_pred))\n",
        "print(confusion_matrix(y_test, y_pred))\n"
      ]
    },
    {
      "cell_type": "code",
      "execution_count": 4,
      "metadata": {
        "colab": {
          "base_uri": "https://localhost:8080/"
        },
        "id": "kmTqvtcYrZ0h",
        "outputId": "e8c492d8-2646-42ef-ecc1-d53305b5aee5"
      },
      "outputs": [
        {
          "name": "stdout",
          "output_type": "stream",
          "text": [
            "Predictions on new data: [0 0 5 7 7 7 0 0 0 0 7 7 7 7 7 7 7 7 7 7 7 7 0 0 0 0 0 0 0 0 0 0 0 3 0 0 0\n",
            " 0 0 3 3 3 3 0 0 0 3 3 3 0 0 0 0 0 0 0 0 0 0 0 0 0 0 0 0 0 0 7 7 7 0 0 0 7\n",
            " 7 7 7 7 7 0 0 0 0 0 0 0 0 0 0 0 0 0 0 0 0 0 0 0 0]\n",
            "Output mode of the array: 0\n"
          ]
        }
      ],
      "source": [
        "X_new = pd.read_csv('recorded_audio.csv')\n",
        "X_new_scaled = scalar.transform(X_new)  # Use the same scaler from training\n",
        "\n",
        "y_new_pred = svm.predict(X_new_scaled)  # Use the trained model (best_svm)\n",
        "print(\"Predictions on new data:\", y_new_pred)\n",
        "print(\"Output mode of the array:\", np.bincount(y_new_pred).argmax())"
      ]
    },
    {
      "cell_type": "code",
      "execution_count": 7,
      "metadata": {
        "id": "-ZeaBerwxmLj"
      },
      "outputs": [],
      "source": [
        "pickle.dump(svm, open('person_detection_model.pkl', 'wb'))"
      ]
    },
    {
      "cell_type": "code",
      "execution_count": 8,
      "metadata": {
        "id": "91f1tlWM1r3a"
      },
      "outputs": [],
      "source": [
        "person_detection_loader = pickle.load(open('person_detection_model.pkl', 'rb'))"
      ]
    },
    {
      "cell_type": "code",
      "execution_count": 9,
      "metadata": {
        "colab": {
          "base_uri": "https://localhost:8080/"
        },
        "id": "C5u1MLV_5X_K",
        "outputId": "884a305f-da06-4fcf-b0c0-24ac2d810b22"
      },
      "outputs": [
        {
          "name": "stdout",
          "output_type": "stream",
          "text": [
            "Percentage distribution of predictions:\n",
            "Class 0: 66.67%\n",
            "Class 1: 0.00%\n",
            "Class 2: 0.00%\n",
            "Class 3: 8.08%\n",
            "Class 4: 0.00%\n",
            "Class 5: 1.01%\n",
            "Class 6: 0.00%\n",
            "Class 7: 24.24%\n"
          ]
        }
      ],
      "source": [
        "y = person_detection_loader.predict(X_new_scaled)\n",
        "percentage_distribution = np.bincount(y) / len(y) * 100\n",
        "\n",
        "# Print percentage distribution\n",
        "print(\"Percentage distribution of predictions:\")\n",
        "for class_label, percentage in enumerate(percentage_distribution):\n",
        "    print(f\"Class {class_label}: {percentage:.2f}%\")"
      ]
    },
    {
      "cell_type": "markdown",
      "metadata": {
        "id": "owcBojUx5565"
      },
      "source": [
        "# Sentence Detection"
      ]
    },
    {
      "cell_type": "code",
      "execution_count": null,
      "metadata": {
        "colab": {
          "base_uri": "https://localhost:8080/"
        },
        "id": "hBjU_H6M5dwU",
        "outputId": "ae02707d-68fd-4e57-cb9d-115211bcedef"
      },
      "outputs": [
        {
          "name": "stdout",
          "output_type": "stream",
          "text": [
            "0.8094418960244648\n",
            "              precision    recall  f1-score   support\n",
            "\n",
            "           8       0.79      0.81      0.80      1749\n",
            "           9       0.84      0.82      0.83      1719\n",
            "          10       0.80      0.80      0.80      1764\n",
            "\n",
            "    accuracy                           0.81      5232\n",
            "   macro avg       0.81      0.81      0.81      5232\n",
            "weighted avg       0.81      0.81      0.81      5232\n",
            "\n",
            "[[1417  126  206]\n",
            " [ 164 1410  145]\n",
            " [ 205  151 1408]]\n"
          ]
        }
      ],
      "source": [
        "data = pd.read_csv('combined_train_sentences.csv')\n",
        "X = data.iloc[:, :-1]\n",
        "y = data.iloc[:, -1]\n",
        "\n",
        "X_train, X_test, y_train, y_test = train_test_split(X, y, test_size=0.2, random_state=42)\n",
        "\n",
        "scalar = StandardScaler()\n",
        "X_train_scaled = scalar.fit_transform(X_train)\n",
        "X_test_scaled = scalar.transform(X_test)\n",
        "\n",
        "#svm\n",
        "\n",
        "svm = SVC(kernel='rbf', C=100)\n",
        "svm.fit(X_train_scaled, y_train)\n",
        "\n",
        "y_pred = svm.predict(X_test_scaled)\n",
        "print(accuracy_score(y_test, y_pred))\n",
        "print(classification_report(y_test, y_pred))\n",
        "print(confusion_matrix(y_test, y_pred))"
      ]
    },
    {
      "cell_type": "code",
      "execution_count": null,
      "metadata": {
        "colab": {
          "base_uri": "https://localhost:8080/",
          "height": 1000
        },
        "id": "sdlbfEvw9Oag",
        "outputId": "52fe0518-07d6-4238-9a8c-f481ab01e421"
      },
      "outputs": [
        {
          "name": "stdout",
          "output_type": "stream",
          "text": [
            "Fitting 5 folds for each of 16 candidates, totalling 80 fits\n",
            "[CV 1/5] END ........C=0.1, gamma=1, kernel=rbf;, score=0.340 total time= 1.0min\n",
            "[CV 2/5] END ........C=0.1, gamma=1, kernel=rbf;, score=0.340 total time= 1.0min\n",
            "[CV 3/5] END ........C=0.1, gamma=1, kernel=rbf;, score=0.340 total time= 1.0min\n",
            "[CV 4/5] END ........C=0.1, gamma=1, kernel=rbf;, score=0.340 total time= 1.0min\n",
            "[CV 5/5] END ........C=0.1, gamma=1, kernel=rbf;, score=0.340 total time=  58.2s\n",
            "[CV 1/5] END ......C=0.1, gamma=0.1, kernel=rbf;, score=0.612 total time=  47.0s\n",
            "[CV 2/5] END ......C=0.1, gamma=0.1, kernel=rbf;, score=0.618 total time=  49.8s\n",
            "[CV 3/5] END ......C=0.1, gamma=0.1, kernel=rbf;, score=0.568 total time=  49.4s\n",
            "[CV 4/5] END ......C=0.1, gamma=0.1, kernel=rbf;, score=0.553 total time=  50.1s\n",
            "[CV 5/5] END ......C=0.1, gamma=0.1, kernel=rbf;, score=0.660 total time=  50.0s\n",
            "[CV 1/5] END .....C=0.1, gamma=0.01, kernel=rbf;, score=0.610 total time=  43.1s\n",
            "[CV 2/5] END .....C=0.1, gamma=0.01, kernel=rbf;, score=0.607 total time=  43.2s\n",
            "[CV 3/5] END .....C=0.1, gamma=0.01, kernel=rbf;, score=0.600 total time=  42.6s\n",
            "[CV 4/5] END .....C=0.1, gamma=0.01, kernel=rbf;, score=0.605 total time=  44.0s\n",
            "[CV 5/5] END .....C=0.1, gamma=0.01, kernel=rbf;, score=0.619 total time=  44.1s\n",
            "[CV 1/5] END ....C=0.1, gamma=0.001, kernel=rbf;, score=0.480 total time=  46.7s\n",
            "[CV 2/5] END ....C=0.1, gamma=0.001, kernel=rbf;, score=0.488 total time=  48.4s\n",
            "[CV 3/5] END ....C=0.1, gamma=0.001, kernel=rbf;, score=0.483 total time=  47.2s\n",
            "[CV 4/5] END ....C=0.1, gamma=0.001, kernel=rbf;, score=0.483 total time=  48.7s\n",
            "[CV 5/5] END ....C=0.1, gamma=0.001, kernel=rbf;, score=0.492 total time=  50.4s\n",
            "[CV 1/5] END ..........C=1, gamma=1, kernel=rbf;, score=0.391 total time= 1.8min\n",
            "[CV 2/5] END ..........C=1, gamma=1, kernel=rbf;, score=0.387 total time= 1.7min\n",
            "[CV 3/5] END ..........C=1, gamma=1, kernel=rbf;, score=0.400 total time= 1.7min\n",
            "[CV 4/5] END ..........C=1, gamma=1, kernel=rbf;, score=0.388 total time= 1.7min\n",
            "[CV 5/5] END ..........C=1, gamma=1, kernel=rbf;, score=0.404 total time= 1.8min\n",
            "[CV 1/5] END ........C=1, gamma=0.1, kernel=rbf;, score=0.820 total time= 1.4min\n",
            "[CV 2/5] END ........C=1, gamma=0.1, kernel=rbf;, score=0.811 total time= 1.4min\n",
            "[CV 3/5] END ........C=1, gamma=0.1, kernel=rbf;, score=0.817 total time= 1.4min\n",
            "[CV 4/5] END ........C=1, gamma=0.1, kernel=rbf;, score=0.816 total time= 1.4min\n",
            "[CV 5/5] END ........C=1, gamma=0.1, kernel=rbf;, score=0.812 total time= 1.3min\n",
            "[CV 1/5] END .......C=1, gamma=0.01, kernel=rbf;, score=0.731 total time=  32.0s\n",
            "[CV 2/5] END .......C=1, gamma=0.01, kernel=rbf;, score=0.721 total time=  33.5s\n",
            "[CV 3/5] END .......C=1, gamma=0.01, kernel=rbf;, score=0.723 total time=  32.1s\n",
            "[CV 4/5] END .......C=1, gamma=0.01, kernel=rbf;, score=0.716 total time=  33.7s\n",
            "[CV 5/5] END .......C=1, gamma=0.01, kernel=rbf;, score=0.725 total time=  32.1s\n",
            "[CV 1/5] END ......C=1, gamma=0.001, kernel=rbf;, score=0.546 total time=  41.0s\n",
            "[CV 2/5] END ......C=1, gamma=0.001, kernel=rbf;, score=0.540 total time=  42.4s\n",
            "[CV 3/5] END ......C=1, gamma=0.001, kernel=rbf;, score=0.534 total time=  41.6s\n",
            "[CV 4/5] END ......C=1, gamma=0.001, kernel=rbf;, score=0.542 total time=  40.8s\n",
            "[CV 5/5] END ......C=1, gamma=0.001, kernel=rbf;, score=0.546 total time=  40.7s\n",
            "[CV 1/5] END .........C=10, gamma=1, kernel=rbf;, score=0.408 total time= 2.0min\n",
            "[CV 2/5] END .........C=10, gamma=1, kernel=rbf;, score=0.403 total time= 2.1min\n",
            "[CV 3/5] END .........C=10, gamma=1, kernel=rbf;, score=0.420 total time= 2.0min\n",
            "[CV 4/5] END .........C=10, gamma=1, kernel=rbf;, score=0.402 total time= 2.0min\n",
            "[CV 5/5] END .........C=10, gamma=1, kernel=rbf;, score=0.416 total time= 2.0min\n",
            "[CV 1/5] END .......C=10, gamma=0.1, kernel=rbf;, score=0.829 total time= 1.8min\n",
            "[CV 2/5] END .......C=10, gamma=0.1, kernel=rbf;, score=0.817 total time= 1.8min\n",
            "[CV 3/5] END .......C=10, gamma=0.1, kernel=rbf;, score=0.824 total time= 1.8min\n",
            "[CV 4/5] END .......C=10, gamma=0.1, kernel=rbf;, score=0.833 total time= 1.8min\n",
            "[CV 5/5] END .......C=10, gamma=0.1, kernel=rbf;, score=0.830 total time= 1.8min\n",
            "[CV 1/5] END ......C=10, gamma=0.01, kernel=rbf;, score=0.785 total time=  31.4s\n",
            "[CV 2/5] END ......C=10, gamma=0.01, kernel=rbf;, score=0.772 total time=  30.6s\n",
            "[CV 3/5] END ......C=10, gamma=0.01, kernel=rbf;, score=0.788 total time=  31.8s\n",
            "[CV 4/5] END ......C=10, gamma=0.01, kernel=rbf;, score=0.773 total time=  30.5s\n",
            "[CV 5/5] END ......C=10, gamma=0.01, kernel=rbf;, score=0.780 total time=  32.0s\n",
            "[CV 1/5] END .....C=10, gamma=0.001, kernel=rbf;, score=0.650 total time=  36.6s\n",
            "[CV 2/5] END .....C=10, gamma=0.001, kernel=rbf;, score=0.633 total time=  36.7s\n",
            "[CV 3/5] END .....C=10, gamma=0.001, kernel=rbf;, score=0.629 total time=  37.0s\n",
            "[CV 4/5] END .....C=10, gamma=0.001, kernel=rbf;, score=0.633 total time=  36.2s\n",
            "[CV 5/5] END .....C=10, gamma=0.001, kernel=rbf;, score=0.646 total time=  36.6s\n",
            "[CV 1/5] END ........C=100, gamma=1, kernel=rbf;, score=0.411 total time= 2.0min\n",
            "[CV 2/5] END ........C=100, gamma=1, kernel=rbf;, score=0.403 total time= 2.0min\n",
            "[CV 3/5] END ........C=100, gamma=1, kernel=rbf;, score=0.422 total time= 2.0min\n",
            "[CV 4/5] END ........C=100, gamma=1, kernel=rbf;, score=0.404 total time= 1.9min\n",
            "[CV 5/5] END ........C=100, gamma=1, kernel=rbf;, score=0.416 total time= 2.0min\n",
            "[CV 1/5] END ......C=100, gamma=0.1, kernel=rbf;, score=0.822 total time= 1.9min\n",
            "[CV 2/5] END ......C=100, gamma=0.1, kernel=rbf;, score=0.811 total time= 1.8min\n",
            "[CV 3/5] END ......C=100, gamma=0.1, kernel=rbf;, score=0.816 total time= 1.9min\n",
            "[CV 4/5] END ......C=100, gamma=0.1, kernel=rbf;, score=0.833 total time= 1.8min\n",
            "[CV 5/5] END ......C=100, gamma=0.1, kernel=rbf;, score=0.831 total time= 1.8min\n",
            "[CV 1/5] END .....C=100, gamma=0.01, kernel=rbf;, score=0.800 total time=  47.8s\n",
            "[CV 2/5] END .....C=100, gamma=0.01, kernel=rbf;, score=0.781 total time=  47.4s\n",
            "[CV 3/5] END .....C=100, gamma=0.01, kernel=rbf;, score=0.796 total time=  47.3s\n",
            "[CV 4/5] END .....C=100, gamma=0.01, kernel=rbf;, score=0.783 total time=  47.4s\n",
            "[CV 5/5] END .....C=100, gamma=0.01, kernel=rbf;, score=0.789 total time=  46.5s\n",
            "[CV 1/5] END ....C=100, gamma=0.001, kernel=rbf;, score=0.714 total time=  41.9s\n",
            "[CV 2/5] END ....C=100, gamma=0.001, kernel=rbf;, score=0.704 total time=  41.4s\n",
            "[CV 3/5] END ....C=100, gamma=0.001, kernel=rbf;, score=0.706 total time=  42.4s\n",
            "[CV 4/5] END ....C=100, gamma=0.001, kernel=rbf;, score=0.692 total time=  40.6s\n",
            "[CV 5/5] END ....C=100, gamma=0.001, kernel=rbf;, score=0.705 total time=  40.4s\n",
            "Best parameters: {'C': 10, 'gamma': 0.1, 'kernel': 'rbf'}\n",
            "Accuracy: 0.8325688073394495\n",
            "Classification Report:\n",
            "               precision    recall  f1-score   support\n",
            "\n",
            "           8       0.83      0.83      0.83      1749\n",
            "           9       0.84      0.84      0.84      1719\n",
            "          10       0.82      0.83      0.82      1764\n",
            "\n",
            "    accuracy                           0.83      5232\n",
            "   macro avg       0.83      0.83      0.83      5232\n",
            "weighted avg       0.83      0.83      0.83      5232\n",
            "\n",
            "Confusion Matrix:\n",
            " [[1449  116  184]\n",
            " [ 140 1450  129]\n",
            " [ 155  152 1457]]\n"
          ]
        },
        {
          "ename": "NameError",
          "evalue": "ignored",
          "output_type": "error",
          "traceback": [
            "\u001b[0;31m---------------------------------------------------------------------------\u001b[0m",
            "\u001b[0;31mNameError\u001b[0m                                 Traceback (most recent call last)",
            "\u001b[0;32m<ipython-input-31-b554d97b222c>\u001b[0m in \u001b[0;36m<cell line: 35>\u001b[0;34m()\u001b[0m\n\u001b[1;32m     33\u001b[0m \u001b[0;31m# Cross-validated Accuracy\u001b[0m\u001b[0;34m\u001b[0m\u001b[0;34m\u001b[0m\u001b[0m\n\u001b[1;32m     34\u001b[0m \u001b[0msvm_cv\u001b[0m \u001b[0;34m=\u001b[0m \u001b[0mSVC\u001b[0m\u001b[0;34m(\u001b[0m\u001b[0mkernel\u001b[0m\u001b[0;34m=\u001b[0m\u001b[0;34m'rbf'\u001b[0m\u001b[0;34m,\u001b[0m \u001b[0mC\u001b[0m\u001b[0;34m=\u001b[0m\u001b[0msvm_grid\u001b[0m\u001b[0;34m.\u001b[0m\u001b[0mbest_params_\u001b[0m\u001b[0;34m[\u001b[0m\u001b[0;34m'C'\u001b[0m\u001b[0;34m]\u001b[0m\u001b[0;34m,\u001b[0m \u001b[0mgamma\u001b[0m\u001b[0;34m=\u001b[0m\u001b[0msvm_grid\u001b[0m\u001b[0;34m.\u001b[0m\u001b[0mbest_params_\u001b[0m\u001b[0;34m[\u001b[0m\u001b[0;34m'gamma'\u001b[0m\u001b[0;34m]\u001b[0m\u001b[0;34m)\u001b[0m\u001b[0;34m\u001b[0m\u001b[0;34m\u001b[0m\u001b[0m\n\u001b[0;32m---> 35\u001b[0;31m \u001b[0mscores\u001b[0m \u001b[0;34m=\u001b[0m \u001b[0mcross_val_score\u001b[0m\u001b[0;34m(\u001b[0m\u001b[0msvm_cv\u001b[0m\u001b[0;34m,\u001b[0m \u001b[0mX_train_scaled\u001b[0m\u001b[0;34m,\u001b[0m \u001b[0my_train\u001b[0m\u001b[0;34m,\u001b[0m \u001b[0mcv\u001b[0m\u001b[0;34m=\u001b[0m\u001b[0;36m5\u001b[0m\u001b[0;34m)\u001b[0m\u001b[0;34m\u001b[0m\u001b[0;34m\u001b[0m\u001b[0m\n\u001b[0m\u001b[1;32m     36\u001b[0m \u001b[0mprint\u001b[0m\u001b[0;34m(\u001b[0m\u001b[0;34m\"Cross-validated Accuracy: %0.2f (+/- %0.2f)\"\u001b[0m \u001b[0;34m%\u001b[0m \u001b[0;34m(\u001b[0m\u001b[0mscores\u001b[0m\u001b[0;34m.\u001b[0m\u001b[0mmean\u001b[0m\u001b[0;34m(\u001b[0m\u001b[0;34m)\u001b[0m\u001b[0;34m,\u001b[0m \u001b[0mscores\u001b[0m\u001b[0;34m.\u001b[0m\u001b[0mstd\u001b[0m\u001b[0;34m(\u001b[0m\u001b[0;34m)\u001b[0m \u001b[0;34m*\u001b[0m \u001b[0;36m2\u001b[0m\u001b[0;34m)\u001b[0m\u001b[0;34m)\u001b[0m\u001b[0;34m\u001b[0m\u001b[0;34m\u001b[0m\u001b[0m\n",
            "\u001b[0;31mNameError\u001b[0m: name 'cross_val_score' is not defined"
          ]
        }
      ],
      "source": [
        "# # Load data\n",
        "# data = pd.read_csv('combined_train_sentences.csv')\n",
        "# X = data.iloc[:, :-1]\n",
        "# y = data.iloc[:, -1]\n",
        "\n",
        "# # Split data into training and testing sets\n",
        "# X_train, X_test, y_train, y_test = train_test_split(X, y, test_size=0.2, random_state=42)\n",
        "\n",
        "# # Standardize features\n",
        "# scalar = StandardScaler()\n",
        "# X_train_scaled = scalar.fit_transform(X_train)\n",
        "# X_test_scaled = scalar.transform(X_test)\n",
        "\n",
        "# # Hyperparameter tuning using Grid Search\n",
        "# param_grid = {'C': [0.1, 1, 10, 100],\n",
        "#               'gamma': [1, 0.1, 0.01, 0.001],\n",
        "#               'kernel': ['rbf']}\n",
        "\n",
        "# svm_grid = GridSearchCV(SVC(), param_grid, refit=True, verbose=3)\n",
        "# svm_grid.fit(X_train_scaled, y_train)\n",
        "\n",
        "# # Print the best hyperparameters\n",
        "# print(\"Best parameters:\", svm_grid.best_params_)\n",
        "\n",
        "# # Use the best model for prediction\n",
        "# y_pred = svm_grid.predict(X_test_scaled)\n",
        "\n",
        "# # Evaluate the model\n",
        "# print(\"Accuracy:\", accuracy_score(y_test, y_pred))\n",
        "# print(\"Classification Report:\\n\", classification_report(y_test, y_pred))\n",
        "# print(\"Confusion Matrix:\\n\", confusion_matrix(y_test, y_pred))\n",
        "\n",
        "# # Cross-validated Accuracy\n",
        "# svm_cv = SVC(kernel='rbf', C=svm_grid.best_params_['C'], gamma=svm_grid.best_params_['gamma'])\n",
        "# scores = cross_val_score(svm_cv, X_train_scaled, y_train, cv=5)\n",
        "# print(\"Cross-validated Accuracy: %0.2f (+/- %0.2f)\" % (scores.mean(), scores.std() * 2))"
      ]
    },
    {
      "cell_type": "code",
      "execution_count": null,
      "metadata": {
        "colab": {
          "base_uri": "https://localhost:8080/"
        },
        "id": "nmU-PcpbTxQG",
        "outputId": "7947a865-80f6-4e73-e425-f4ddbb293478"
      },
      "outputs": [
        {
          "name": "stdout",
          "output_type": "stream",
          "text": [
            "Accuracy: 0.8325688073394495\n",
            "Classification Report:\n",
            "               precision    recall  f1-score   support\n",
            "\n",
            "           8       0.83      0.83      0.83      1749\n",
            "           9       0.84      0.84      0.84      1719\n",
            "          10       0.82      0.83      0.82      1764\n",
            "\n",
            "    accuracy                           0.83      5232\n",
            "   macro avg       0.83      0.83      0.83      5232\n",
            "weighted avg       0.83      0.83      0.83      5232\n",
            "\n",
            "Confusion Matrix:\n",
            " [[1449  116  184]\n",
            " [ 140 1450  129]\n",
            " [ 155  152 1457]]\n"
          ]
        }
      ],
      "source": [
        "# import pandas as pd\n",
        "# from sklearn.model_selection import train_test_split\n",
        "# from sklearn.preprocessing import StandardScaler\n",
        "# from sklearn.svm import SVC\n",
        "# from sklearn.metrics import accuracy_score, classification_report, confusion_matrix\n",
        "\n",
        "# # Read Data\n",
        "# data = pd.read_csv('combined_train_sentences.csv')\n",
        "\n",
        "# # Split Data\n",
        "# X = data.iloc[:, :-1]\n",
        "# y = data.iloc[:, -1]\n",
        "# X_train, X_test, y_train, y_test = train_test_split(X, y, test_size=0.2, random_state=42)\n",
        "\n",
        "# # Scale Features\n",
        "# scalar = StandardScaler()\n",
        "# X_train_scaled = scalar.fit_transform(X_train)\n",
        "# X_test_scaled = scalar.transform(X_test)\n",
        "\n",
        "# # Train SVM Model with Best Parameters\n",
        "# best_params = {'C': 10, 'gamma': 0.1, 'kernel': 'rbf'}\n",
        "# svm = SVC(**best_params)\n",
        "# svm.fit(X_train_scaled, y_train)\n",
        "\n",
        "# # Predict and Evaluate\n",
        "# y_pred = svm.predict(X_test_scaled)\n",
        "# print(\"Accuracy:\", accuracy_score(y_test, y_pred))\n",
        "# print(\"Classification Report:\\n\", classification_report(y_test, y_pred))\n",
        "# print(\"Confusion Matrix:\\n\", confusion_matrix(y_test, y_pred))\n"
      ]
    },
    {
      "cell_type": "code",
      "execution_count": null,
      "metadata": {
        "colab": {
          "base_uri": "https://localhost:8080/"
        },
        "id": "WxwjVgKn6FIC",
        "outputId": "d92af130-98da-402d-e227-7c0d695084db"
      },
      "outputs": [
        {
          "name": "stdout",
          "output_type": "stream",
          "text": [
            "Predictions on new data: [ 8  8  8 10  8  8 10 10  8  8  8  8  8  8  8  8  8  8 10 10  8  8  8  8\n",
            " 10  9  8  9 10 10 10 10 10 10  9  9  9  8  8  8 10 10 10 10  8  8 10 10\n",
            "  8  8  8  8  8  8  8  8  8 10  8  8 10 10 10 10 10 10 10 10 10 10 10 10\n",
            " 10 10  9  9  9]\n",
            "Output mode of the array: 8\n"
          ]
        }
      ],
      "source": [
        "X_new = pd.read_csv('recorded_audio (1).csv')\n",
        "X_new_scaled = scalar.transform(X_new)  # Use the same scaler from training\n",
        "\n",
        "y_new_pred = svm.predict(X_new_scaled)  # Use the trained model (best_svm)\n",
        "print(\"Predictions on new data:\", y_new_pred)\n",
        "print(\"Output mode of the array:\", np.bincount(y_new_pred).argmax())"
      ]
    }
  ],
  "metadata": {
    "colab": {
      "provenance": []
    },
    "kernelspec": {
      "display_name": "Python 3",
      "name": "python3"
    },
    "language_info": {
      "codemirror_mode": {
        "name": "ipython",
        "version": 3
      },
      "file_extension": ".py",
      "mimetype": "text/x-python",
      "name": "python",
      "nbconvert_exporter": "python",
      "pygments_lexer": "ipython3",
      "version": "3.10.9"
    }
  },
  "nbformat": 4,
  "nbformat_minor": 0
}
